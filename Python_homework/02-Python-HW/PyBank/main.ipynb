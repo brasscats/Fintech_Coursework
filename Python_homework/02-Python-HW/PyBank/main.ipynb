{
 "cells": [
  {
   "cell_type": "code",
   "execution_count": 57,
   "metadata": {},
   "outputs": [],
   "source": [
    "# Import pathlib & CSV libraries\n",
    "\n",
    "from pathlib import Path\n",
    "import csv"
   ]
  },
  {
   "cell_type": "code",
   "execution_count": 65,
   "metadata": {},
   "outputs": [],
   "source": [
    "# Set the CSV file path\n",
    "csvpath = Path(\"../budget_data.csv\")\n",
    "\n",
    "# Set the results file path\n",
    "csvpath_export = Path(\"results_export.txt\")"
   ]
  },
  {
   "cell_type": "code",
   "execution_count": 66,
   "metadata": {},
   "outputs": [],
   "source": [
    "# Initialize variables\n",
    "total_months = 0\n",
    "month_of_change = []\n",
    "net_change_list = []\n",
    "great_increase = [\"\",0]\n",
    "great_decrease = [\"\", 9999999]\n",
    "total_net = 0"
   ]
  },
  {
   "cell_type": "code",
   "execution_count": 67,
   "metadata": {},
   "outputs": [],
   "source": [
    "# Open the csv file as an object\n",
    "with open(csvpath, 'r') as csvfile:\n",
    "    \n",
    "    # Pass in the csv file to the csv.reader() function\n",
    "    # (with ',' as the delmiter/separator) and return the csvreader object\n",
    "\n",
    "    csvreader = csv.reader(csvfile, delimiter=',')\n",
    "    csv_header = next(csvreader)\n",
    "    \n",
    "    # Set the 'first_row', 'total_months', 'total_net', and 'pre_net' variables for better\n",
    "        # readability, convert strings to ints for numerical calculations\n",
    "\n",
    "    first_row = next(csvreader)\n",
    "    total_months = total_months + 1\n",
    "    total_net = total_net + int(first_row[1])\n",
    "    prev_net = int(first_row[1])\n",
    "    \n",
    "    # Cumulatively sum up the 'total_months' and sum of 'total_net'\n",
    "    for row in csvreader:\n",
    "        total_months = total_months + 1 # total_months += 1\n",
    "        total_net = total_net + int(row[1]) # total_net += 1\n",
    "        \n",
    "        # Determine the average of the changes in 'net_change_list' over the entire period\n",
    "        net_change = int(row[1]) - prev_net\n",
    "        prev_net = int(row[1])\n",
    "        \n",
    "        net_change_list += [net_change]\n",
    "        month_of_change += [row[0]]\n",
    "        \n",
    "        # Logic to determine 'great_increase' \n",
    "        if net_change > great_increase[1]:\n",
    "            great_increase[0] = row[0]\n",
    "            great_increase[1] = net_change\n",
    "            \n",
    "        # Logic to determine 'great_decrease' \n",
    "        if net_change < great_decrease[1]:\n",
    "            great_decrease[0] = row[0]\n",
    "            great_decrease[1] = net_change\n",
    "\n"
   ]
  },
  {
   "cell_type": "code",
   "execution_count": 68,
   "metadata": {},
   "outputs": [
    {
     "output_type": "execute_result",
     "data": {
      "text/plain": [
       "86"
      ]
     },
     "metadata": {},
     "execution_count": 68
    }
   ],
   "source": [
    "total_months"
   ]
  },
  {
   "cell_type": "code",
   "execution_count": 69,
   "metadata": {},
   "outputs": [
    {
     "output_type": "execute_result",
     "data": {
      "text/plain": [
       "38382578"
      ]
     },
     "metadata": {},
     "execution_count": 69
    }
   ],
   "source": [
    "total_net"
   ]
  },
  {
   "cell_type": "code",
   "execution_count": 70,
   "metadata": {},
   "outputs": [],
   "source": [
    "net_month_avg = round(total_net / total_months, 2)"
   ]
  },
  {
   "cell_type": "code",
   "execution_count": 71,
   "metadata": {},
   "outputs": [
    {
     "output_type": "execute_result",
     "data": {
      "text/plain": [
       "446309.05"
      ]
     },
     "metadata": {},
     "execution_count": 71
    }
   ],
   "source": [
    "net_month_avg"
   ]
  },
  {
   "cell_type": "code",
   "execution_count": 72,
   "metadata": {},
   "outputs": [
    {
     "output_type": "execute_result",
     "data": {
      "text/plain": [
       "['Sep-2013', -2196167]"
      ]
     },
     "metadata": {},
     "execution_count": 72
    }
   ],
   "source": [
    "great_decrease"
   ]
  },
  {
   "cell_type": "code",
   "execution_count": 73,
   "metadata": {},
   "outputs": [
    {
     "output_type": "execute_result",
     "data": {
      "text/plain": [
       "['Feb-2012', 1926159]"
      ]
     },
     "metadata": {},
     "execution_count": 73
    }
   ],
   "source": [
    "great_increase"
   ]
  },
  {
   "cell_type": "code",
   "execution_count": 75,
   "metadata": {},
   "outputs": [],
   "source": [
    "with open(csvpath_export, 'w') as text_file:\n",
    "    text_file.write(f\"Financial Analysis\\n\")\n",
    "    text_file.write(f\"-----------------------\\n\")\n",
    "    text_file.write(f\"Total Months: {total_months}\\n\")\n",
    "    text_file.write(f\"Average: ${total_net}\\n\")\n",
    "    text_file.write(f\"Greatest Increase in Profits: {great_increase}\\n\")\n",
    "    text_file.write(f\"Greatest Decrease in Profits: {great_decrease}\\n\")"
   ]
  },
  {
   "cell_type": "code",
   "execution_count": null,
   "metadata": {},
   "outputs": [],
   "source": []
  }
 ],
 "metadata": {
  "kernelspec": {
   "display_name": "Python 3",
   "language": "python",
   "name": "python3"
  },
  "language_info": {
   "codemirror_mode": {
    "name": "ipython",
    "version": 3
   },
   "file_extension": ".py",
   "mimetype": "text/x-python",
   "name": "python",
   "nbconvert_exporter": "python",
   "pygments_lexer": "ipython3",
   "version": "3.8.5"
  }
 },
 "nbformat": 4,
 "nbformat_minor": 4
}